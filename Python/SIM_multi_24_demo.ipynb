{
 "cells": [
  {
   "cell_type": "markdown",
   "id": "608a5c7b744a0bbb",
   "metadata": {},
   "source": [
    "This is the jupyter notebook that replicates the results for the real data based simulation studies in Section 4.2 and S4.2. \n",
    "\n",
    "The procedure and logic are similar for single-channel and multi-channel simulation studies, so I do not show them in detail. \n",
    "\n",
    "When I created this jupyter notebook, I used PyCharm and installed relevant packages under a virtual environment, denoted as \".venv\".\n",
    "\n",
    "It takes longer than running the same file in PyCharm directly. \n",
    "\n",
    "You need to change the directory \"parent_path_sim_dir\" to your own first.\n",
    "\n",
    "1. Data Generation\n",
    "\n",
    "Make sure you have installed the following python modules:\n",
    "* numpy, scipy, seaborn, matplotlib, os\n",
    "* tqdm\n",
    "* jax, numpyro\n",
    "* sklearn, math\n",
    "* pyriemann, mne\n",
    "* json"
   ]
  },
  {
   "cell_type": "code",
   "id": "bcf3b6795b871199",
   "metadata": {},
   "source": [
    "%run -i '~/Desktop/BSM-Code-V2/Python/SIM_signal_parameter_multi_24.py'"
   ],
   "outputs": [],
   "execution_count": null
  },
  {
   "cell_type": "markdown",
   "id": "95c5cd1b4f2361e6",
   "metadata": {},
   "source": [
    "The above python file creates a real-data based simulated data under ./EEG_MATLAB_data/SIM_files/N_24_K_24_multi_xdawn_eeg/iter_0.\n",
    "\n",
    "The resulting files include a training file \"sim_dat.json\" and a testing file \"sim_dat_test.json\". In the training file, we follow the setup of the real data analysis such that training data from 23 source participants are generated, in addition to the new participant."
   ]
  },
  {
   "cell_type": "markdown",
   "id": "5a785b61f0b52151",
   "metadata": {},
   "source": [
    "2. Fitting BSM-Reference method:\n",
    "\n",
    "You need to change the directory \"parent_path_sim_dir\" to your own first. \n",
    "\n",
    "You need to vary the input parameter \"seq_i\" from 0 to 4 (They follow the python index). The seq_i=4 by default."
   ]
  },
  {
   "cell_type": "code",
   "id": "194e8737710013bc",
   "metadata": {},
   "source": [
    "%run -i '~/Desktop/BSM-Code-V2/Python/numpyro_data_reference_signal_sim_multi_24.py'"
   ],
   "outputs": [],
   "execution_count": null
  },
  {
   "cell_type": "markdown",
   "id": "5e726dbe932c8471",
   "metadata": {},
   "source": [
    "The BSM-Reference method creates a new folder \"reference_numpyro\" and outputs three file per \"seq_i\", with \"seq_i\" ranging from 1 to 4:\n",
    "* mcmc_sub_0_seq_size_(seq_i+1)_reference.mat\n",
    "* plot_sub_0_seq_size_(seq_i+1)_reference.png\n",
    "* summary_sub_0_seq_size_(seq_i+1)_reference.txt\n",
    "\n",
    "When seq_i < 9, it takes about 3 minutes to finish the BSM-Reference modeling.\n",
    "\n",
    "When seq_i=9, the file also triggers the modeling for 23 source participants. Unless the user plans to apply parallel computing, the above python file loops through 23 source participants, which takes 3 * 24 = 72 minutes to finish the BSM-Reference modeling. Three files per source participant are generated as follows, with \"source_id\" ranging from 1 to 23.\n",
    "* mcmc_sub_(source_id)_seq_size_10_reference.mat\n",
    "* plot_sub_(source_id)_seq_size_10_reference.png\n",
    "* summary_sub_(source_id)_seq_size_10_reference.txt"
   ]
  },
  {
   "cell_type": "markdown",
   "id": "4cb6eed6cdf5c136",
   "metadata": {},
   "source": [
    "3. Fitting BSM method:\n",
    "\n",
    "You need to change the directory \"parent_path_sim_dir\" to your own first.\n",
    "\n",
    "You need to vary the input parameter \"seq_i\" from 0 to 4. The seq_i=4 by default.\n",
    "\n",
    "The kernel hyperparameters are fixed as (0.3, 1.2) and (0.2, 1.2).\n",
    "\n",
    "The number of chains is set to 2, with 5,000 burn-ins and 1,000 samples. The convergence is checked every 100 iterations."
   ]
  },
  {
   "cell_type": "code",
   "id": "2b8e2cbbbc9c2026",
   "metadata": {},
   "source": [
    "%run -i '~/Desktop/BSM-Code-V2/Python/gibbs_data_integration_signal_sim_multi_24.py'"
   ],
   "outputs": [],
   "execution_count": null
  },
  {
   "cell_type": "markdown",
   "id": "16da5e1a0bd2bdc6",
   "metadata": {},
   "source": [
    "The BSM method creates a new folder \"borrow_gibbs\" and outputs two files per \"seq_i\", with \"seq_i\" ranging from 1 to 4.\n",
    "* mcmc_sub_0_seq_size_(seq_i+1)_cluster_log_lhd_diff_approx_2.0.mat\n",
    "* plot_xdawn_seq_size_(seq_i+1)_2_chains_log_lhd_diff_approx_2.0.png\n",
    "\n",
    "It takes about 1h 20m to finish one chain. To facilitate the subsequent analysis, a built-in MCMC object has been stored in the same folder."
   ]
  },
  {
   "cell_type": "markdown",
   "id": "79f93b6508297574",
   "metadata": {},
   "source": [
    "4. Fitting swLDA method:\n",
    "\n",
    "Since my Jupyter notebook does not allow loading .m file directly. Please open MATLAB and identify the swLDA file\n",
    "\"~/Desktop/BSM-Code-V2/MATLAB/SIM_cluster_swLDA_MATLAB_multi_24.m\"\n",
    "\n",
    "The swLDA outputs one file per \"seq_i\", with \"seq_i\" ranging from 1 to 4.\n",
    "* swLDA_output_seq_size_(seq_i+1).mat\n",
    "\n",
    "It takes less than 1 minute to run swLDA locally per iteration.\n"
   ]
  },
  {
   "metadata": {},
   "cell_type": "code",
   "source": "# %matlab -nodisplay -nosplash -r \"run('~/Desktop/BSM-Code-V2/MATLAB/SIM_cluster_swLDA_MATLAB_multi_24.m'); exit;\"",
   "id": "49c43b629a8f76da",
   "outputs": [],
   "execution_count": null
  },
  {
   "cell_type": "markdown",
   "id": "aa2653d7754210a2",
   "metadata": {},
   "source": [
    "5. Fitting MDWM method:\n",
    "\n",
    "You need to change the directory \"parent_path_sim_dir\" to your own first.\n",
    "\n",
    "All the parameters are set to their default values."
   ]
  },
  {
   "cell_type": "code",
   "id": "2223e280c7ebb130",
   "metadata": {},
   "source": [
    "%run -i \"~/Desktop/BSM-Code-V2/Python/SIM_signal_predict_MDWM_multi_24.py\""
   ],
   "outputs": [],
   "execution_count": null
  },
  {
   "cell_type": "markdown",
   "id": "83097cbfa3dca91",
   "metadata": {},
   "source": [
    "The MDWM method creates a new folder \"MDWM\" and outputs training and testing prediction accuracy per \"seq_i\", with \"seq_i\" ranging from 1 to 4. The intermediate results are not saved.\n",
    "* predict_sub_0_train_seq_size_(seq_i+1)_MDWM.json\n",
    "* predict_sub_0_test_seq_size_(seq_i+1)_MDWM.json\n",
    "\n",
    "It takes a couple of minutes to run MDWM."
   ]
  },
  {
   "cell_type": "markdown",
   "id": "a034c2e3aa87b5a",
   "metadata": {},
   "source": [
    "6. Prediction \n",
    "\n",
    "All prediction methods should not take more than 5 minutes to complete.\n",
    "\n",
    "a. BSM-Reference\n",
    "\n",
    "You need to change the directory \"parent_path_sim_dir\" to your own first.\n",
    "\n",
    "The prediction codes will create training and testing prediction accuracy per \"seq_i\" under the folder \"reference_numpyro\", with \"seq_i\" ranging from 1 to 4.\n",
    "* predict_sub_0_train_seq_size_(seq_i+1)_reference.json\n",
    "* predict_sub_0_test_seq_size_(seq_i+1)_reference.json\n"
   ]
  },
  {
   "cell_type": "code",
   "id": "ab0de11280330da0",
   "metadata": {},
   "source": [
    "# BSM-Reference\n",
    "%run -i \"~/Desktop/BSM-Code-V2/Python/SIM_signal_predict_reference_multi_24.py\""
   ],
   "outputs": [],
   "execution_count": null
  },
  {
   "cell_type": "markdown",
   "id": "4b09c877a00e53c8",
   "metadata": {},
   "source": [
    "b. BSM: \n",
    "\n",
    "You need to change the directory \"parent_path_sim_dir\" to your own first.\n",
    "\n",
    "The prediction codes will create training and testing prediction accuracy per \"seq_i\" under the folder \"reference_numpyro\", with \"seq_i\" ranging from 1 to 4.\n",
    "* predict_sub_0_train_seq_size_(seq_i+1)_cluster.json\n",
    "* predict_sub_0_test_seq_size_(seq_i+1)_cluster.json\n"
   ]
  },
  {
   "cell_type": "code",
   "id": "b035ea36db14e6d4",
   "metadata": {},
   "source": [
    "# BSM\n",
    "%run -i \"~/Desktop/BSM-Code-V2/Python/SIM_signal_predict_cluster_multi_24.py\""
   ],
   "outputs": [],
   "execution_count": null
  },
  {
   "cell_type": "markdown",
   "id": "b7c0344c7982cc00",
   "metadata": {},
   "source": [
    "c. BSM-Mixture\n",
    "\n",
    "You need to change the directory \"parent_path_sim_dir\" to your own first.\n",
    "\n",
    "We follow the algorithm proposed in Section 3.3 and adopt a delta_Z of 0.1.\n",
    "\n",
    "The prediction codes will create a new folder \"mixture_gibbs\" and output training and testing prediction accuracy per \"seq_i\", with \"seq_i\" ranging from 1 to 4.\n",
    "\n",
    "* predict_sub_0_train_seq_size_(seq_i+1)_mixture.json\n",
    "* predict_sub_0_test_seq_size_(seq_i+1)_mixture.json\n"
   ]
  },
  {
   "cell_type": "code",
   "id": "a9332c89b171470b",
   "metadata": {},
   "source": [
    "# BSM-Mixture\n",
    "%run -i \"~/Desktop/BSM-Code-V2/Python/SIM_signal_predict_mixture_multi_24.py\""
   ],
   "outputs": [],
   "execution_count": null
  },
  {
   "cell_type": "markdown",
   "id": "c8bc88565184abc",
   "metadata": {},
   "source": [
    "d. swLDA (Baseline Reference)\n",
    "\n",
    "You need to change the directory \"parent_path_sim_dir\" to your own first.\n",
    "\n",
    "The prediction codes will create training and testing prediction accuracy per \"seq_i\" under the folder \"reference_numpyro\", with \"seq_i\" ranging from 1 to 4.\n",
    "* predict_sub_0_train_seq_size_(seq_i+1)_swLDA.json\n",
    "* predict_sub_0_test_seq_size_(seq_i+1)_swLDA.json\n"
   ]
  },
  {
   "cell_type": "code",
   "id": "62c370a0e73fd47d",
   "metadata": {},
   "source": [
    "# swLDA\n",
    "%run -i \"~/Desktop/BSM-Code-V2/Python/SIM_signal_predict_swLDA_multi_24.py\""
   ],
   "outputs": [],
   "execution_count": null
  },
  {
   "cell_type": "markdown",
   "id": "6217cc595455f32b",
   "metadata": {},
   "source": [
    "e. MDWM\n",
    "\n",
    "See section 5."
   ]
  },
  {
   "cell_type": "markdown",
   "id": "404cc60fca200b5b",
   "metadata": {},
   "source": [
    "7. Inferences and Visualization of Prediction Accuracy\n",
    "\n",
    "For each simulation replication, parameter estimates and matching results, i.e., Prob(Z_n=1), are summarized as plots and can be found under the folder \"./iter_X/borrow_gibbs\".\n",
    "* plot_xdawn_seq_size_(seq_i+1)_2_chains_log_lhd_diff_approx_2.0.png\n",
    "\n",
    "For aggregated matching result (Figure S6) and prediction accuracy (Figure 4), R is applied to produce the plots. \n",
    "\n",
    "Prediction accuracy and Z values across 100 replications have been pre-stored under \"prediction_summary\" folder.\n",
    "\n",
    "Install rpy2 module first!"
   ]
  },
  {
   "metadata": {},
   "cell_type": "code",
   "source": "%load_ext rpy2.ipython",
   "id": "345086e6485b1e7b",
   "outputs": [],
   "execution_count": null
  },
  {
   "metadata": {},
   "cell_type": "markdown",
   "source": [
    "Make sure you have installed the following R packages:\n",
    "* R.matlab\n",
    "* R.utils\n",
    "* ggplot2\n",
    "* gridExtra"
   ],
   "id": "8dbd9b2b01e207a4"
  },
  {
   "cell_type": "code",
   "id": "3066eb217bb86581",
   "metadata": {},
   "source": [
    "%%R\n",
    "source(\"~/Desktop/BSM-Code-V2/R/sim_summary_3way_multi_24.R\")"
   ],
   "outputs": [],
   "execution_count": null
  },
  {
   "metadata": {},
   "cell_type": "markdown",
   "source": [
    "Plots and csv files are generated and saved under the folder \"prediction_summary\".\n",
    "* plot_p_bsm_cluster_z_seq_train_size_2-5_iteration_100.png (Figure S6)\n",
    "* plot_predict_test_fix_seq_train_size_(seq_i+1)_iteration_100.png (Figure 4)\n",
    "* test_xx_backward_seq_size.csv\n",
    "* test_xx_forward_seq_size.csv"
   ],
   "id": "3a9ed38de1128c90"
  }
 ],
 "metadata": {
  "kernelspec": {
   "display_name": "Python 3 (ipykernel)",
   "language": "python",
   "name": "python3"
  },
  "language_info": {
   "codemirror_mode": {
    "name": "ipython",
    "version": 3
   },
   "file_extension": ".py",
   "mimetype": "text/x-python",
   "name": "python",
   "nbconvert_exporter": "python",
   "pygments_lexer": "ipython3",
   "version": "3.8.10"
  }
 },
 "nbformat": 4,
 "nbformat_minor": 5
}
